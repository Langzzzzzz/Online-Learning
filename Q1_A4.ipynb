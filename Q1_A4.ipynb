{
 "cells": [
  {
   "cell_type": "code",
   "execution_count": 251,
   "metadata": {},
   "outputs": [],
   "source": [
    "import arff\n",
    "import pandas as pd\n",
    "import numpy as np\n",
    "import matplotlib.pyplot as plt\n",
    "# import river\n",
    "from river import preprocessing\n",
    "from sklearn import metrics\n",
    "from sklearn.metrics import accuracy_score\n",
    "from skmultiflow.trees import HoeffdingTreeClassifier\n",
    "from skmultiflow.lazy import SAMKNNClassifier\n",
    "from skmultiflow.trees import HoeffdingAdaptiveTreeClassifier\n",
    "from skmultiflow.data import DataStream\n",
    "from skmultiflow.meta import OnlineRUSBoostClassifier\n",
    "from skmultiflow.meta import AdaptiveRandomForestClassifier\n",
    "from skmultiflow.meta import AccuracyWeightedEnsembleClassifier\n",
    "from skmultiflow.drift_detection.adwin import ADWIN\n",
    "\n",
    "\n",
    "\n",
    "\n"
   ]
  },
  {
   "cell_type": "code",
   "execution_count": 252,
   "metadata": {},
   "outputs": [
    {
     "name": "stdout",
     "output_type": "stream",
     "text": [
      "(57018, 33)\n",
      "(57018,)\n"
     ]
    }
   ],
   "source": [
    "inc_data = arff.load('INSECTS-incremental_balanced_norm.arff')\n",
    "inc_df = pd.DataFrame(list(inc_data))\n",
    "\n",
    "inc_df = inc_df.replace(['ae-aegypti-male'], 0)\n",
    "inc_df = inc_df.replace(['cx-quinq-male'], 1)\n",
    "inc_df = inc_df.replace(['cx-quinq-female'], 2)\n",
    "inc_df = inc_df.replace(['ae-aegypti-female'], 3)\n",
    "inc_df = inc_df.replace(['ae-albopictus-female'], 4)\n",
    "inc_df = inc_df.replace(['ae-albopictus-male'], 5)\n",
    "\n",
    "inc_X = inc_df.iloc[:, 0:-1].to_numpy()\n",
    "inc_y = inc_df.iloc[:, -1].to_numpy()\n",
    "# {'ae-aegypti-male', 'cx-quinq-male', 'cx-quinq-female', 'ae-aegypti-female', 'ae-albopictus-female', 'ae-albopictus-male'}\n",
    "# a = set(y)\n",
    "# print(a)-\n",
    "print(inc_X.shape)\n",
    "print(inc_y.shape)\n",
    "\n",
    "inc_stream = DataStream(data=inc_X, y=inc_y)\n"
   ]
  },
  {
   "cell_type": "code",
   "execution_count": 253,
   "metadata": {},
   "outputs": [
    {
     "name": "stdout",
     "output_type": "stream",
     "text": [
      "(52848, 33)\n",
      "(52848,)\n"
     ]
    }
   ],
   "source": [
    "inc_abr_data = arff.load('INSECTS-abrupt_balanced_norm.arff')\n",
    "inc_abr_df = pd.DataFrame(list(inc_abr_data))\n",
    "\n",
    "inc_abr_df = inc_abr_df.replace(['ae-aegypti-male'], 0)\n",
    "inc_abr_df = inc_abr_df.replace(['cx-quinq-male'], 1)\n",
    "inc_abr_df = inc_abr_df.replace(['cx-quinq-female'], 2)\n",
    "inc_abr_df = inc_abr_df.replace(['ae-aegypti-female'], 3)\n",
    "inc_abr_df = inc_abr_df.replace(['ae-albopictus-female'], 4)\n",
    "inc_abr_df = inc_abr_df.replace(['ae-albopictus-male'], 5)\n",
    "\n",
    "inc_abr_X = inc_abr_df.iloc[:, 0:-1].to_numpy()\n",
    "inc_abr_y = inc_abr_df.iloc[:, -1].to_numpy()\n",
    "# a = set(inc_abr_y)\n",
    "# print(a)\n",
    "\n",
    "\n",
    "# {'ae-aegypti-male', 'cx-quinq-male', 'cx-quinq-female', 'ae-aegypti-female', 'ae-albopictus-female', 'ae-albopictus-male'}\n",
    "\n",
    "print(inc_abr_X.shape)\n",
    "print(inc_abr_y.shape)\n",
    "\n",
    "inc_abr_stream = DataStream(data=inc_abr_X, y=inc_abr_y)"
   ]
  },
  {
   "cell_type": "code",
   "execution_count": 254,
   "metadata": {},
   "outputs": [
    {
     "name": "stdout",
     "output_type": "stream",
     "text": [
      "(24150, 33)\n",
      "(24150,)\n"
     ]
    }
   ],
   "source": [
    "inc_gra_data = arff.load('INSECTS-gradual_balanced_norm.arff')\n",
    "inc_gra_df = pd.DataFrame(list(inc_gra_data))\n",
    "\n",
    "inc_gra_df = inc_gra_df.replace(['ae-aegypti-male'], 0)\n",
    "inc_gra_df = inc_gra_df.replace(['cx-quinq-male'], 1)\n",
    "inc_gra_df = inc_gra_df.replace(['cx-quinq-female'], 2)\n",
    "inc_gra_df = inc_gra_df.replace(['ae-aegypti-female'], 3)\n",
    "inc_gra_df = inc_gra_df.replace(['ae-albopictus-female'], 4)\n",
    "inc_gra_df = inc_gra_df.replace(['ae-albopictus-male'], 5)\n",
    "# a = set(inc_gra_y)\n",
    "# print(a)\n",
    "\n",
    "inc_gra_X = inc_gra_df.iloc[:, 0:-1].to_numpy()\n",
    "inc_gra_y = inc_gra_df.iloc[:, -1].to_numpy()\n",
    "\n",
    "# {'ae-aegypti-male', 'cx-quinq-male', 'cx-quinq-female', 'ae-aegypti-female', 'ae-albopictus-female', 'ae-albopictus-male'}\n",
    "\n",
    "print(inc_gra_X.shape)\n",
    "print(inc_gra_y.shape)\n",
    "\n",
    "inc_gra_stream = DataStream(data=inc_gra_X, y=inc_gra_y)"
   ]
  },
  {
   "cell_type": "code",
   "execution_count": 255,
   "metadata": {},
   "outputs": [],
   "source": [
    "def no_change_classifier(X, y):\n",
    "    # X is a numpy array of shape (n_samples, n_features)\n",
    "    # y is a numpy array of shape (n_samples,)\n",
    "    # returns a numpy array of shape (n_samples,)\n",
    "    y_true = []\n",
    "    y_pred = []\n",
    "    last_seen = -1\n",
    "    correct_cnt, n_samples = 0, 0\n",
    "    acc_list = []\n",
    "    for xi, yi in zip(X, y):\n",
    "        y_pred.append(last_seen)\n",
    "        y_true.append(yi)\n",
    "        if(yi == last_seen):\n",
    "            correct_cnt+=1\n",
    "        last_seen = yi\n",
    "        n_samples+=1\n",
    "        if(n_samples % 1000 == 0):\n",
    "            acc_list.append(accuracy_score(y_true[-1000:], y_pred[-1000:]))\n",
    "    return acc_list\n"
   ]
  },
  {
   "cell_type": "code",
   "execution_count": 256,
   "metadata": {},
   "outputs": [],
   "source": [
    "def majority_class_classifier(X, y):\n",
    "    # X is a numpy array of shape (n_samples, n_features)\n",
    "    # y is a numpy array of shape (n_samples,)\n",
    "    # returns a numpy array of shape (n_samples,)\n",
    "    left, right = 0, 0\n",
    "    cnt = [0, 0, 0, 0, 0, 0]\n",
    "    maxY = 0\n",
    "    maxCnt = 0\n",
    "    correct_cnt = 0\n",
    "    y_true = []\n",
    "    y_pred = []\n",
    "    acc_list = []\n",
    "    while(right < len(y)):\n",
    "        y_true.append(y[right])\n",
    "        y_pred.append(maxY)\n",
    "\n",
    "        cnt[y[right]] += 1\n",
    "        for i in range(6):\n",
    "            if(cnt[i] > maxCnt):\n",
    "                maxCnt = cnt[i]\n",
    "                maxY = i\n",
    "        right += 1\n",
    "        if(right % 1000 == 0):\n",
    "            acc_list.append(accuracy_score(y_true[-1000:], y_pred[-1000:]))\n",
    "        if(right - left > 1000):\n",
    "            cnt[y[left]] -= 1\n",
    "            left += 1\n",
    "\n",
    "    return acc_list\n",
    "    \n",
    "\n",
    "\n"
   ]
  },
  {
   "cell_type": "code",
   "execution_count": 257,
   "metadata": {},
   "outputs": [],
   "source": [
    "def train(data_stream, classifier):\n",
    "    if not data_stream.has_more_samples():\n",
    "        print('restart stream')\n",
    "        data_stream.restart()\n",
    "        \n",
    "    acc_list = []\n",
    "    n_samples = 1000\n",
    "    X, y = data_stream.next_sample(1000)\n",
    "\n",
    "    classifier.partial_fit(X, y)\n",
    "    y_pred = classifier.predict(X)\n",
    "    \n",
    "    while data_stream.has_more_samples():\n",
    "        single_X, single_y = data_stream.next_sample()\n",
    "        y_pred = np.append(y_pred, classifier.predict(single_X))\n",
    "        X = np.append(X, single_X, axis=0)\n",
    "        y = np.append(y, single_y)\n",
    "        # y.append(single_y)\n",
    "        if(n_samples % 1000 == 0):\n",
    "            acc_list.append(accuracy_score(y[-1000:], y_pred[-1000:]))\n",
    "        classifier.partial_fit(single_X, single_y)\n",
    "        n_samples += 1\n",
    "    return acc_list\n"
   ]
  },
  {
   "cell_type": "code",
   "execution_count": 258,
   "metadata": {},
   "outputs": [],
   "source": [
    "def train_with_drift_detetion(data_stream, classifier):\n",
    "    adwin = ADWIN()\n",
    "    ht = HoeffdingTreeClassifier()\n",
    "\n",
    "    if not data_stream.has_more_samples():\n",
    "        print('restart stream')\n",
    "        data_stream.restart()\n",
    "\n",
    "    dd_list = []    \n",
    "    acc_list = []\n",
    "    n_samples = 1000\n",
    "    X, y = data_stream.next_sample(1000)\n",
    "\n",
    "    classifier.partial_fit(X, y)\n",
    "    y_pred = classifier.predict(X)\n",
    "\n",
    "    for i in range(1000):\n",
    "        adwin.add_element(int(y[i]))\n",
    "        if adwin.detected_change():\n",
    "            dd_list.append(i)\n",
    "\n",
    "    detected = False\n",
    "    while data_stream.has_more_samples():\n",
    "        single_X, single_y = data_stream.next_sample()\n",
    "\n",
    "        adwin.add_element(int(single_y))\n",
    "        if adwin.detected_change():\n",
    "            dd_list.append(n_samples)\n",
    "            detected = True\n",
    "\n",
    "        y_pred = np.append(y_pred, classifier.predict(single_X))\n",
    "        X = np.append(X, single_X, axis=0)\n",
    "        y = np.append(y, single_y)\n",
    "        acc_list.append(accuracy_score(y[-1000:], y_pred[-1000:]))\n",
    "\n",
    "        classifier.partial_fit(single_X, single_y)\n",
    "        n_samples += 1\n",
    "\n",
    "        if detected:\n",
    "            classifier = ht.partial_fit(X[-1000:, :], y[-1000:])\n",
    "            detected = False\n",
    "    dd_list.append(n_samples)\n",
    "    return acc_list, dd_list\n"
   ]
  },
  {
   "cell_type": "code",
   "execution_count": 259,
   "metadata": {},
   "outputs": [],
   "source": [
    "ht = HoeffdingTreeClassifier()\n",
    "knn = SAMKNNClassifier(n_neighbors=5)\n",
    "hat = HoeffdingAdaptiveTreeClassifier()\n",
    "awe = AccuracyWeightedEnsembleClassifier()\n",
    "arf = AdaptiveRandomForestClassifier()"
   ]
  },
  {
   "cell_type": "code",
   "execution_count": 260,
   "metadata": {},
   "outputs": [
    {
     "name": "stdout",
     "output_type": "stream",
     "text": [
      "restart stream\n",
      "restart stream\n",
      "restart stream\n",
      "restart stream\n"
     ]
    }
   ],
   "source": [
    "ht_inc_acc_list = train(inc_stream, ht)\n",
    "knn_inc_acc_list = train(inc_stream, knn)\n",
    "hat_inc_acc_list = train(inc_stream, hat)\n",
    "awe_inc_acc_list = train(inc_stream, awe)\n",
    "arf_inc_acc_list = train(inc_stream, arf)\n",
    "no_change_inc_acc_list = no_change_classifier(inc_X, inc_y)\n",
    "majority_class_inc_acc_list = majority_class_classifier(inc_X, inc_y)"
   ]
  },
  {
   "cell_type": "code",
   "execution_count": null,
   "metadata": {},
   "outputs": [],
   "source": [
    "ht_inc_abr_acc_list = train(inc_abr_stream, ht)\n",
    "knn_inc_abr_acc_list = train(inc_abr_stream, knn)\n",
    "hat_inc_abr_acc_list = train(inc_abr_stream, hat)\n",
    "awe_inc_abr_acc_list = train(inc_abr_stream, awe)\n",
    "arf_inc_abr_acc_list = train(inc_abr_stream, arf)\n",
    "no_change_inc_abr_acc_list = no_change_classifier(inc_abr_X, inc_abr_y)\n",
    "majority_class_inc_abr_acc_list = majority_class_classifier(inc_abr_X, inc_abr_y)"
   ]
  },
  {
   "cell_type": "code",
   "execution_count": null,
   "metadata": {},
   "outputs": [],
   "source": [
    "ht_inc_gra_acc_list = train(inc_gra_stream, ht)\n",
    "knn_inc_gra_acc_list = train(inc_gra_stream, knn)\n",
    "hat_inc_gra_acc_list = train(inc_gra_stream, hat)\n",
    "awe_inc_gra_acc_list = train(inc_gra_stream, awe)\n",
    "arf_inc_gra_acc_list = train(inc_gra_stream, arf)\n",
    "no_change_inc_gra_acc_list = no_change_classifier(inc_gra_X, inc_gra_y)\n",
    "majority_class_inc_gra_acc_list = majority_class_classifier(inc_gra_X, inc_gra_y)"
   ]
  },
  {
   "cell_type": "code",
   "execution_count": null,
   "metadata": {},
   "outputs": [],
   "source": [
    "plt.title('INSECTS Incremental balanced norm')\n",
    "plt.plot(ht_inc_acc_list, label='ht', linewidth=1)\n",
    "plt.plot(knn_inc_acc_list, label='knn', linewidth=1)\n",
    "plt.plot(hat_inc_acc_list, label='hat', linewidth=1)\n",
    "plt.plot(awe_inc_acc_list, label='awe', linewidth=1)\n",
    "plt.plot(arf_inc_acc_list, label='arf', linewidth=1)\n",
    "plt.plot(no_change_inc_acc_list, label='no-change', linewidth=1)\n",
    "plt.plot(majority_class_inc_acc_list, label='majority-class', linewidth=1)\n",
    "plt.ylim(0, 1)\n",
    "plt.xlabel('Time, instances')\n",
    "plt.ylabel('Prequential Accuracy %')\n",
    "plt.legend()\n",
    "plt.show()\n",
    "\n",
    "\n"
   ]
  },
  {
   "cell_type": "code",
   "execution_count": null,
   "metadata": {},
   "outputs": [],
   "source": [
    "plt.title('INSECTS Incremental abrupt norm')\n",
    "plt.plot(ht_inc_abr_acc_list, label='ht', linewidth=1)\n",
    "plt.plot(knn_inc_abr_acc_list, label='knn', linewidth=1)\n",
    "plt.plot(hat_inc_abr_acc_list, label='hat', linewidth=1)\n",
    "plt.plot(awe_inc_abr_acc_list, label='awe', linewidth=1)\n",
    "plt.plot(arf_inc_abr_acc_list, label='arf', linewidth=1)\n",
    "plt.plot(no_change_inc_abr_acc_list, label='no-change', linewidth=1)\n",
    "plt.plot(majority_class_inc_abr_acc_list, label='majority-class', linewidth=1)\n",
    "plt.ylim(0, 1)\n",
    "plt.xlabel('Time, instances')\n",
    "plt.ylabel('Prequential Accuracy %')\n",
    "plt.legend()\n",
    "plt.show()\n",
    "\n"
   ]
  },
  {
   "cell_type": "code",
   "execution_count": null,
   "metadata": {},
   "outputs": [],
   "source": [
    "plt.title('INSECTS Incremental gradual norm')\n",
    "plt.plot(ht_inc_gra_acc_list, label='ht', linewidth=1)\n",
    "plt.plot(knn_inc_gra_acc_list, label='knn', linewidth=1)\n",
    "plt.plot(hat_inc_gra_acc_list, label='hat', linewidth=1)\n",
    "plt.plot(awe_inc_gra_acc_list, label='awe', linewidth=1)\n",
    "plt.plot(arf_inc_gra_acc_list, label='arf', linewidth=1)\n",
    "plt.plot(no_change_inc_gra_acc_list, label='no-change', linewidth=1)\n",
    "plt.plot(majority_class_inc_gra_acc_list, label='majority-class', linewidth=1)\n",
    "plt.ylim(0, 1)\n",
    "plt.xlabel('Time, instances')\n",
    "plt.ylabel('Prequential Accuracy %')\n",
    "plt.legend()\n",
    "plt.show()"
   ]
  },
  {
   "cell_type": "code",
   "execution_count": 249,
   "metadata": {},
   "outputs": [
    {
     "name": "stdout",
     "output_type": "stream",
     "text": [
      "restart stream\n"
     ]
    }
   ],
   "source": [
    "\n",
    "# randome list with 100 elements from 0 to 1\n",
    "# import random\n",
    "# ht_inc_dd_acc_list = [random.random() for i in range(100)]\n",
    "# # randome list with 10 elements from 0 to 100\n",
    "# ht_inc_dd_list = [random.randint(0, 100) for i in range(10)]\n",
    "\n",
    "ht_inc_dd_acc_list, ht_inc_dd_list = train_with_drift_detetion(inc_stream, ht)\n",
    "# ht_inc_abr_dd_acc_list, ht_inc_abr_dd_list = train_with_drift_detetion(inc_abr_stream, ht)\n",
    "# ht_inc_gra_dd_acc_list, ht_inc_gra_dd_list= train_with_drift_detetion(inc_gra_stream, ht)\n"
   ]
  },
  {
   "cell_type": "code",
   "execution_count": 250,
   "metadata": {},
   "outputs": [
    {
     "data": {
      "image/png": "[encoded data removed]",
      "text/plain": [
       "<Figure size 640x480 with 1 Axes>"
      ]
     },
     "metadata": {},
     "output_type": "display_data"
    }
   ],
   "source": [
    "# print(ht_inc_dd_list)\n",
    "\n",
    "plt.title('INSECTS Incremental balanced norm')\n",
    "plt.plot(ht_inc_dd_acc_list, label='ht_inc', linewidth=1)\n",
    "for d in ht_inc_dd_list:\n",
    "    plt.axvline(x=d, color='r', linestyle='--', linewidth=1)\n",
    "plt.ylim(0, 1)\n",
    "plt.xlabel('Time, instances')\n",
    "plt.ylabel('Prequential Accuracy %')\n",
    "plt.legend()\n",
    "plt.show()"
   ]
  }
 ],
 "metadata": {
  "kernelspec": {
   "display_name": "Python 3.10.7 64-bit",
   "language": "python",
   "name": "python3"
  },
  "language_info": {
   "codemirror_mode": {
    "name": "ipython",
    "version": 3
   },
   "file_extension": ".py",
   "mimetype": "text/x-python",
   "name": "python",
   "nbconvert_exporter": "python",
   "pygments_lexer": "ipython3",
   "version": "3.8.9"
  },
  "orig_nbformat": 4,
  "vscode": {
   "interpreter": {
    "hash": "aee8b7b246df8f9039afb4144a1f6fd8d2ca17a180786b69acc140d282b71a49"
   }
  }
 },
 "nbformat": 4,
 "nbformat_minor": 2
}
